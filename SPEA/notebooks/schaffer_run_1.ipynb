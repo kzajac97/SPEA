{
 "cells": [
  {
   "cell_type": "markdown",
   "metadata": {},
   "source": [
    "# Template Notebook"
   ]
  },
  {
   "cell_type": "markdown",
   "metadata": {},
   "source": [
    "## Setup"
   ]
  },
  {
   "cell_type": "markdown",
   "metadata": {},
   "source": [
    "### Standard library imports"
   ]
  },
  {
   "cell_type": "code",
   "execution_count": 24,
   "metadata": {
    "pycharm": {
     "is_executing": false
    }
   },
   "outputs": [
    {
     "name": "stdout",
     "output_type": "stream",
     "text": [
      "The autoreload extension is already loaded. To reload it, use:\n",
      "  %reload_ext autoreload\n"
     ]
    }
   ],
   "source": [
    "%load_ext autoreload"
   ]
  },
  {
   "cell_type": "code",
   "execution_count": 25,
   "metadata": {
    "pycharm": {
     "is_executing": false
    }
   },
   "outputs": [],
   "source": [
    "import sys\n",
    "import warnings\n",
    "import logging\n",
    "\n",
    "sys.path.append('..')\n",
    "warnings.filterwarnings('ignore')\n",
    "logger = logging.getLogger(__name__)"
   ]
  },
  {
   "cell_type": "code",
   "execution_count": 26,
   "metadata": {
    "pycharm": {
     "is_executing": false
    }
   },
   "outputs": [],
   "source": [
    "%autoreload 2\n",
    "\n",
    "import numpy as np\n",
    "import seaborn as sns\n",
    "import plotly.express as px\n",
    "from matplotlib import pyplot as plt\n",
    "\n",
    "from source.spea_optimizer import SPEAOptimizer"
   ]
  },
  {
   "cell_type": "code",
   "execution_count": 27,
   "metadata": {},
   "outputs": [],
   "source": [
    "sns.set()"
   ]
  },
  {
   "cell_type": "markdown",
   "metadata": {},
   "source": [
    "### Setup objective function"
   ]
  },
  {
   "cell_type": "code",
   "execution_count": 28,
   "metadata": {
    "pycharm": {
     "is_executing": false
    }
   },
   "outputs": [],
   "source": [
    "def schaffer_function(x):\n",
    "    return [x**2, (x - 2)**2]"
   ]
  },
  {
   "cell_type": "code",
   "execution_count": 29,
   "metadata": {},
   "outputs": [
    {
     "name": "stdout",
     "output_type": "stream",
     "text": [
      "\n",
      "    Class holds implementation of Strength Pareto Evolutionary Algorithm.\n",
      "    For more details on the algorithm see: README.md\n",
      "\n",
      "    :param objective: multi objective function to optimize,\n",
      "                      takes and returns numpy arrays where each input element is variable\n",
      "                      and each output is one of component objectives\n",
      "    :param n_dim: number of input dimensions of objective, it can not be deduced because of dynamic typing\n",
      "    :param mode: optimization mode, valid options are `min`, `max`, `strict_min` or `strict_max`\n",
      "    :param selection_operator: genetic operator preforming selection operation, str or callable\n",
      "                               if str valid options are `n_fittest` and `binary_tournament`\n",
      "                               if callable should, take in population to select from,\n",
      "                               mating pool size and optimization mode\n",
      "    :param mutation_operator: genetic operator preforming mutation, str or callable\n",
      "                              if str valid options are `gaussian`\n",
      "                              if callable should, take in population to mutate\n",
      "                              (most likely a fraction of whole population)\n",
      "                              and strength of mutation, for floating point encoded genes\n",
      "    :param crossover_operator: genetic operator preforming crossover, str or callable\n",
      "                               if str valid options are `center`\n",
      "                               if callable should, take in mating pool to crossover\n",
      "                               as paris of individuals to cross over\n",
      "                               (most likely a fraction of whole population)\n",
      "                               and number of individuals to be produced\n",
      "    :param clustering_method: method of clustering applied in ParetoSet, str or Any clustering model\n",
      "                              if str, valid options are: `affinity_propagation`, `kmeans` and `spectral`\n",
      "                              if Any pass class implementing clustering interface\n",
      "                              it needs cluster.fit method creating clusters in data and\n",
      "                              cluster.cluster_centres_ property returning coordinates of computed cluster centres\n",
      "    \n"
     ]
    }
   ],
   "source": [
    "print(SPEAOptimizer.__doc__)"
   ]
  },
  {
   "cell_type": "code",
   "execution_count": 30,
   "metadata": {
    "pycharm": {
     "is_executing": false
    }
   },
   "outputs": [],
   "source": [
    "optimzier = SPEAOptimizer(\n",
    "    schaffer_function,\n",
    "    n_dim=1,\n",
    "    mode=\"min\",\n",
    "    mutation_operator=\"gaussian\",\n",
    "    crossover_operator=\"center\",\n",
    "    selection_operator=\"binary_tournament\",\n",
    "    clustering_method=\"affinity_propagation\"\n",
    ")"
   ]
  },
  {
   "cell_type": "code",
   "execution_count": 36,
   "metadata": {
    "pycharm": {
     "is_executing": false
    }
   },
   "outputs": [
    {
     "name": "stderr",
     "output_type": "stream",
     "text": [
      "100%|██████████| 1/1 [00:00<00:00,  5.05it/s]\n"
     ]
    }
   ],
   "source": [
    "history = optimzier.optimize(\n",
    "    generations=100,\n",
    "    population_size=100,\n",
    "    crossover_rate=0.8,\n",
    "    mutation_rate=0.4,\n",
    "    reducing_period=1,\n",
    "    search_range=((-10, 10),),\n",
    "    mutation_strength=1,\n",
    "    clustering_parameters={\"max_iter\": 50},\n",
    "    silent=False,\n",
    "    logging=True,\n",
    "    logging_path=\"../data/schaffer_logs.csv\"\n",
    ")"
   ]
  },
  {
   "cell_type": "code",
   "execution_count": 37,
   "metadata": {},
   "outputs": [],
   "source": [
    "pareto_front = optimzier.pareto_front(n_solutions=40)"
   ]
  },
  {
   "cell_type": "code",
   "execution_count": 38,
   "metadata": {},
   "outputs": [
    {
     "data": {
      "text/plain": [
       "<matplotlib.collections.PathCollection at 0x1e5987feb38>"
      ]
     },
     "execution_count": 38,
     "metadata": {},
     "output_type": "execute_result"
    },
    {
     "data": {
      "image/png": "[encoded data removed]",
      "text/plain": [
       "<Figure size 864x864 with 1 Axes>"
      ]
     },
     "metadata": {},
     "output_type": "display_data"
    }
   ],
   "source": [
    "plt.figure(figsize=[12, 12])\n",
    "\n",
    "values = np.apply_along_axis(schaffer_function, 0, pareto_front)\n",
    "plt.scatter(values[0, :], values[1, :], c=\"r\", s=60)"
   ]
  },
  {
   "cell_type": "code",
   "execution_count": 34,
   "metadata": {},
   "outputs": [
    {
     "data": {
      "text/plain": [
       "<matplotlib.collections.PathCollection at 0x1e59878c278>"
      ]
     },
     "execution_count": 34,
     "metadata": {},
     "output_type": "execute_result"
    },
    {
     "data": {
      "image/png": "[encoded data removed]",
      "text/plain": [
       "<Figure size 864x864 with 1 Axes>"
      ]
     },
     "metadata": {},
     "output_type": "display_data"
    }
   ],
   "source": [
    "plt.figure(figsize=[12, 12])\n",
    "\n",
    "t = np.linspace(0, 2, 100)\n",
    "t_values = np.apply_along_axis(schaffer_function, 0, t)\n",
    "plt.scatter(t_values[0, :], t_values[1, :], c=\"b\", s=20)"
   ]
  },
  {
   "cell_type": "code",
   "execution_count": 35,
   "metadata": {},
   "outputs": [
    {
     "data": {
      "text/plain": [
       "<matplotlib.collections.PathCollection at 0x1e5987be668>"
      ]
     },
     "execution_count": 35,
     "metadata": {},
     "output_type": "execute_result"
    },
    {
     "data": {
      "image/png": "[encoded data removed]",
      "text/plain": [
       "<Figure size 864x864 with 1 Axes>"
      ]
     },
     "metadata": {},
     "output_type": "display_data"
    }
   ],
   "source": [
    "plt.figure(figsize=[12, 12])\n",
    "\n",
    "t = np.linspace(-10, 10, 100)\n",
    "t_values = np.apply_along_axis(schaffer_function, 0, t)\n",
    "plt.scatter(t_values[0, :], t_values[1, :], c=\"b\", s=20)"
   ]
  },
  {
   "cell_type": "code",
   "execution_count": null,
   "metadata": {},
   "outputs": [],
   "source": []
  }
 ],
 "metadata": {
  "kernelspec": {
   "display_name": "Python 3",
   "language": "python",
   "name": "python3"
  },
  "language_info": {
   "codemirror_mode": {
    "name": "ipython",
    "version": 3
   },
   "file_extension": ".py",
   "mimetype": "text/x-python",
   "name": "python",
   "nbconvert_exporter": "python",
   "pygments_lexer": "ipython3",
   "version": "3.6.9"
  }
 },
 "nbformat": 4,
 "nbformat_minor": 4
}
