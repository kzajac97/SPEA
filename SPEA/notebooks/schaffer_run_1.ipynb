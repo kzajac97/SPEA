{
 "cells": [
  {
   "cell_type": "markdown",
   "metadata": {},
   "source": [
    "# Template Notebook"
   ]
  },
  {
   "cell_type": "markdown",
   "metadata": {},
   "source": [
    "## Setup"
   ]
  },
  {
   "cell_type": "markdown",
   "metadata": {},
   "source": [
    "### Standard library imports"
   ]
  },
  {
   "cell_type": "code",
   "execution_count": 1,
   "metadata": {
    "pycharm": {
     "is_executing": false
    }
   },
   "outputs": [],
   "source": [
    "%load_ext autoreload"
   ]
  },
  {
   "cell_type": "code",
   "execution_count": 2,
   "metadata": {
    "pycharm": {
     "is_executing": false
    }
   },
   "outputs": [],
   "source": [
    "import sys\n",
    "import warnings\n",
    "import logging\n",
    "\n",
    "sys.path.append('..')\n",
    "warnings.filterwarnings('ignore')\n",
    "logger = logging.getLogger(__name__)"
   ]
  },
  {
   "cell_type": "code",
   "execution_count": 12,
   "metadata": {
    "pycharm": {
     "is_executing": false
    }
   },
   "outputs": [],
   "source": [
    "%autoreload 2\n",
    "\n",
    "import numpy as np\n",
    "import pandas as pd\n",
    "import seaborn as sns\n",
    "import plotly.express as px\n",
    "from matplotlib import pyplot as plt\n",
    "\n",
    "from source.spea_optimizer import SPEAOptimizer"
   ]
  },
  {
   "cell_type": "code",
   "execution_count": 4,
   "metadata": {},
   "outputs": [],
   "source": [
    "sns.set()"
   ]
  },
  {
   "cell_type": "markdown",
   "metadata": {},
   "source": [
    "### Setup objective function"
   ]
  },
  {
   "cell_type": "code",
   "execution_count": 5,
   "metadata": {
    "pycharm": {
     "is_executing": false
    }
   },
   "outputs": [],
   "source": [
    "def schaffer_function(x):\n",
    "    return [x**2, (x - 2)**2]"
   ]
  },
  {
   "cell_type": "code",
   "execution_count": 6,
   "metadata": {
    "pycharm": {
     "is_executing": false
    }
   },
   "outputs": [],
   "source": [
    "optimzier = SPEAOptimizer(\n",
    "    schaffer_function,\n",
    "    n_dim=1,\n",
    "    mode=\"min\",\n",
    "    mutation_operator=\"gaussian\",\n",
    "    crossover_operator=\"center\",\n",
    "    selection_operator=\"binary_tournament\",\n",
    "    clustering_method=\"affinity_propagation\"\n",
    ")"
   ]
  },
  {
   "cell_type": "code",
   "execution_count": 21,
   "metadata": {
    "pycharm": {
     "is_executing": false
    }
   },
   "outputs": [
    {
     "name": "stderr",
     "output_type": "stream",
     "text": [
      "100%|███████████████████████████████████████████████████████████████████████████████████████████████████████████████████████████████████████████████████████████████████████████████████████████████████| 1000/1000 [00:35<00:00, 28.06it/s]\n"
     ]
    }
   ],
   "source": [
    "history = optimzier.optimize(\n",
    "    generations=1000,\n",
    "    population_size=20,\n",
    "    crossover_rate=0.8,\n",
    "    mutation_rate=0.8,\n",
    "    reducing_period=1,\n",
    "    search_range=((-10_000, 10_000),),\n",
    "    mutation_strength=10,\n",
    "    clustering_parameters={\"max_iter\": 50},\n",
    "    silent=False,\n",
    "    logging=True,\n",
    "    logging_path=\"../data/schaffer_f1_logs.csv\"\n",
    ")"
   ]
  },
  {
   "cell_type": "code",
   "execution_count": 22,
   "metadata": {},
   "outputs": [
    {
     "data": {
      "text/plain": [
       "(4, 1)"
      ]
     },
     "execution_count": 22,
     "metadata": {},
     "output_type": "execute_result"
    }
   ],
   "source": [
    "optimzier.pareto_front.shape"
   ]
  },
  {
   "cell_type": "code",
   "execution_count": 23,
   "metadata": {},
   "outputs": [
    {
     "data": {
      "text/plain": [
       "<matplotlib.collections.PathCollection at 0x1ae429ae898>"
      ]
     },
     "execution_count": 23,
     "metadata": {},
     "output_type": "execute_result"
    },
    {
     "data": {
      "image/png": "[encoded data removed]",
      "text/plain": [
       "<Figure size 864x864 with 1 Axes>"
      ]
     },
     "metadata": {},
     "output_type": "display_data"
    }
   ],
   "source": [
    "plt.figure(figsize=[12, 12])\n",
    "\n",
    "values = np.apply_along_axis(schaffer_function, 0, optimzier.pareto_front)\n",
    "plt.scatter(values[0, :], values[1, :], c=\"r\", s=60)"
   ]
  },
  {
   "cell_type": "code",
   "execution_count": 24,
   "metadata": {},
   "outputs": [
    {
     "data": {
      "text/plain": [
       "<matplotlib.collections.PathCollection at 0x1ae429c82e8>"
      ]
     },
     "execution_count": 24,
     "metadata": {},
     "output_type": "execute_result"
    },
    {
     "data": {
      "image/png": "[encoded data removed]",
      "text/plain": [
       "<Figure size 864x864 with 1 Axes>"
      ]
     },
     "metadata": {},
     "output_type": "display_data"
    }
   ],
   "source": [
    "plt.figure(figsize=[12, 12])\n",
    "\n",
    "t = np.linspace(-10, 10, 100)\n",
    "t_values = np.apply_along_axis(schaffer_function, 0, t)\n",
    "plt.scatter(t_values[0, :], t_values[1, :], c=\"b\", s=20)"
   ]
  },
  {
   "cell_type": "code",
   "execution_count": 25,
   "metadata": {},
   "outputs": [],
   "source": [
    "logs_df = pd.read_csv(r\"../data/schaffer_f1_logs.csv\")"
   ]
  },
  {
   "cell_type": "code",
   "execution_count": 29,
   "metadata": {},
   "outputs": [
    {
     "data": {
      "text/html": [
       "<div>\n",
       "<style scoped>\n",
       "    .dataframe tbody tr th:only-of-type {\n",
       "        vertical-align: middle;\n",
       "    }\n",
       "\n",
       "    .dataframe tbody tr th {\n",
       "        vertical-align: top;\n",
       "    }\n",
       "\n",
       "    .dataframe thead th {\n",
       "        text-align: right;\n",
       "    }\n",
       "</style>\n",
       "<table border=\"1\" class=\"dataframe\">\n",
       "  <thead>\n",
       "    <tr style=\"text-align: right;\">\n",
       "      <th></th>\n",
       "      <th>X</th>\n",
       "      <th>x</th>\n",
       "      <th>y</th>\n",
       "      <th>generation</th>\n",
       "      <th>pareto</th>\n",
       "    </tr>\n",
       "  </thead>\n",
       "  <tbody>\n",
       "    <tr>\n",
       "      <th>21991</th>\n",
       "      <td>-6.789202</td>\n",
       "      <td>46.093264</td>\n",
       "      <td>77.250072</td>\n",
       "      <td>999</td>\n",
       "      <td>False</td>\n",
       "    </tr>\n",
       "    <tr>\n",
       "      <th>21992</th>\n",
       "      <td>12.805612</td>\n",
       "      <td>163.983708</td>\n",
       "      <td>116.761259</td>\n",
       "      <td>999</td>\n",
       "      <td>False</td>\n",
       "    </tr>\n",
       "    <tr>\n",
       "      <th>21993</th>\n",
       "      <td>-31.554722</td>\n",
       "      <td>995.700500</td>\n",
       "      <td>1125.919389</td>\n",
       "      <td>999</td>\n",
       "      <td>False</td>\n",
       "    </tr>\n",
       "    <tr>\n",
       "      <th>21994</th>\n",
       "      <td>1.450663</td>\n",
       "      <td>2.104423</td>\n",
       "      <td>0.301771</td>\n",
       "      <td>999</td>\n",
       "      <td>False</td>\n",
       "    </tr>\n",
       "    <tr>\n",
       "      <th>21995</th>\n",
       "      <td>-7.388901</td>\n",
       "      <td>54.595860</td>\n",
       "      <td>88.151465</td>\n",
       "      <td>999</td>\n",
       "      <td>False</td>\n",
       "    </tr>\n",
       "    <tr>\n",
       "      <th>21996</th>\n",
       "      <td>0.528232</td>\n",
       "      <td>0.279029</td>\n",
       "      <td>2.166100</td>\n",
       "      <td>999</td>\n",
       "      <td>False</td>\n",
       "    </tr>\n",
       "    <tr>\n",
       "      <th>21997</th>\n",
       "      <td>2.053487</td>\n",
       "      <td>4.216811</td>\n",
       "      <td>0.002861</td>\n",
       "      <td>999</td>\n",
       "      <td>False</td>\n",
       "    </tr>\n",
       "    <tr>\n",
       "      <th>21998</th>\n",
       "      <td>-0.234218</td>\n",
       "      <td>0.054858</td>\n",
       "      <td>4.991728</td>\n",
       "      <td>999</td>\n",
       "      <td>False</td>\n",
       "    </tr>\n",
       "    <tr>\n",
       "      <th>21999</th>\n",
       "      <td>2.173141</td>\n",
       "      <td>4.722543</td>\n",
       "      <td>0.029978</td>\n",
       "      <td>999</td>\n",
       "      <td>False</td>\n",
       "    </tr>\n",
       "    <tr>\n",
       "      <th>22000</th>\n",
       "      <td>-0.784714</td>\n",
       "      <td>0.615777</td>\n",
       "      <td>7.754634</td>\n",
       "      <td>999</td>\n",
       "      <td>False</td>\n",
       "    </tr>\n",
       "    <tr>\n",
       "      <th>22001</th>\n",
       "      <td>-7.395701</td>\n",
       "      <td>54.696398</td>\n",
       "      <td>88.279203</td>\n",
       "      <td>999</td>\n",
       "      <td>False</td>\n",
       "    </tr>\n",
       "    <tr>\n",
       "      <th>22002</th>\n",
       "      <td>-8.224756</td>\n",
       "      <td>67.646603</td>\n",
       "      <td>104.545626</td>\n",
       "      <td>999</td>\n",
       "      <td>False</td>\n",
       "    </tr>\n",
       "    <tr>\n",
       "      <th>22003</th>\n",
       "      <td>2.043436</td>\n",
       "      <td>4.175630</td>\n",
       "      <td>0.001887</td>\n",
       "      <td>999</td>\n",
       "      <td>False</td>\n",
       "    </tr>\n",
       "    <tr>\n",
       "      <th>22004</th>\n",
       "      <td>-1.142966</td>\n",
       "      <td>1.306371</td>\n",
       "      <td>9.878235</td>\n",
       "      <td>999</td>\n",
       "      <td>False</td>\n",
       "    </tr>\n",
       "    <tr>\n",
       "      <th>22005</th>\n",
       "      <td>-3.366393</td>\n",
       "      <td>11.332599</td>\n",
       "      <td>28.798169</td>\n",
       "      <td>999</td>\n",
       "      <td>False</td>\n",
       "    </tr>\n",
       "    <tr>\n",
       "      <th>22006</th>\n",
       "      <td>-18.210161</td>\n",
       "      <td>331.609959</td>\n",
       "      <td>408.450603</td>\n",
       "      <td>999</td>\n",
       "      <td>False</td>\n",
       "    </tr>\n",
       "    <tr>\n",
       "      <th>22007</th>\n",
       "      <td>3.050104</td>\n",
       "      <td>9.303132</td>\n",
       "      <td>1.102717</td>\n",
       "      <td>999</td>\n",
       "      <td>False</td>\n",
       "    </tr>\n",
       "    <tr>\n",
       "      <th>22008</th>\n",
       "      <td>19.001145</td>\n",
       "      <td>361.043525</td>\n",
       "      <td>289.038943</td>\n",
       "      <td>999</td>\n",
       "      <td>False</td>\n",
       "    </tr>\n",
       "    <tr>\n",
       "      <th>22009</th>\n",
       "      <td>-5.304049</td>\n",
       "      <td>28.132935</td>\n",
       "      <td>53.349130</td>\n",
       "      <td>999</td>\n",
       "      <td>False</td>\n",
       "    </tr>\n",
       "    <tr>\n",
       "      <th>22010</th>\n",
       "      <td>2.924919</td>\n",
       "      <td>8.555152</td>\n",
       "      <td>0.855476</td>\n",
       "      <td>999</td>\n",
       "      <td>False</td>\n",
       "    </tr>\n",
       "    <tr>\n",
       "      <th>22011</th>\n",
       "      <td>0.099948</td>\n",
       "      <td>0.009990</td>\n",
       "      <td>3.610196</td>\n",
       "      <td>999</td>\n",
       "      <td>True</td>\n",
       "    </tr>\n",
       "    <tr>\n",
       "      <th>22012</th>\n",
       "      <td>1.266284</td>\n",
       "      <td>1.603476</td>\n",
       "      <td>0.538339</td>\n",
       "      <td>999</td>\n",
       "      <td>True</td>\n",
       "    </tr>\n",
       "  </tbody>\n",
       "</table>\n",
       "</div>"
      ],
      "text/plain": [
       "               X           x            y  generation  pareto\n",
       "21991  -6.789202   46.093264    77.250072         999   False\n",
       "21992  12.805612  163.983708   116.761259         999   False\n",
       "21993 -31.554722  995.700500  1125.919389         999   False\n",
       "21994   1.450663    2.104423     0.301771         999   False\n",
       "21995  -7.388901   54.595860    88.151465         999   False\n",
       "21996   0.528232    0.279029     2.166100         999   False\n",
       "21997   2.053487    4.216811     0.002861         999   False\n",
       "21998  -0.234218    0.054858     4.991728         999   False\n",
       "21999   2.173141    4.722543     0.029978         999   False\n",
       "22000  -0.784714    0.615777     7.754634         999   False\n",
       "22001  -7.395701   54.696398    88.279203         999   False\n",
       "22002  -8.224756   67.646603   104.545626         999   False\n",
       "22003   2.043436    4.175630     0.001887         999   False\n",
       "22004  -1.142966    1.306371     9.878235         999   False\n",
       "22005  -3.366393   11.332599    28.798169         999   False\n",
       "22006 -18.210161  331.609959   408.450603         999   False\n",
       "22007   3.050104    9.303132     1.102717         999   False\n",
       "22008  19.001145  361.043525   289.038943         999   False\n",
       "22009  -5.304049   28.132935    53.349130         999   False\n",
       "22010   2.924919    8.555152     0.855476         999   False\n",
       "22011   0.099948    0.009990     3.610196         999    True\n",
       "22012   1.266284    1.603476     0.538339         999    True"
      ]
     },
     "execution_count": 29,
     "metadata": {},
     "output_type": "execute_result"
    }
   ],
   "source": [
    "logs_df.loc[logs_df[\"generation\"] == 999]"
   ]
  },
  {
   "cell_type": "code",
   "execution_count": null,
   "metadata": {},
   "outputs": [],
   "source": []
  }
 ],
 "metadata": {
  "kernelspec": {
   "display_name": "Python 3",
   "language": "python",
   "name": "python3"
  },
  "language_info": {
   "codemirror_mode": {
    "name": "ipython",
    "version": 3
   },
   "file_extension": ".py",
   "mimetype": "text/x-python",
   "name": "python",
   "nbconvert_exporter": "python",
   "pygments_lexer": "ipython3",
   "version": "3.6.9"
  }
 },
 "nbformat": 4,
 "nbformat_minor": 4
}
